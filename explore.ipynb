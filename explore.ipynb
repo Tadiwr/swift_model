{
 "cells": [
  {
   "cell_type": "code",
   "execution_count": 1,
   "metadata": {},
   "outputs": [
    {
     "data": {
      "text/html": [
       "<div>\n",
       "<style scoped>\n",
       "    .dataframe tbody tr th:only-of-type {\n",
       "        vertical-align: middle;\n",
       "    }\n",
       "\n",
       "    .dataframe tbody tr th {\n",
       "        vertical-align: top;\n",
       "    }\n",
       "\n",
       "    .dataframe thead th {\n",
       "        text-align: right;\n",
       "    }\n",
       "</style>\n",
       "<table border=\"1\" class=\"dataframe\">\n",
       "  <thead>\n",
       "    <tr style=\"text-align: right;\">\n",
       "      <th></th>\n",
       "      <th>driver_id</th>\n",
       "      <th>customer_rating_count</th>\n",
       "      <th>average_rating</th>\n",
       "      <th>rides</th>\n",
       "      <th>average_distance_per_ride</th>\n",
       "      <th>average_speed</th>\n",
       "      <th>car_type</th>\n",
       "    </tr>\n",
       "  </thead>\n",
       "  <tbody>\n",
       "    <tr>\n",
       "      <th>0</th>\n",
       "      <td>219</td>\n",
       "      <td>179</td>\n",
       "      <td>4.53</td>\n",
       "      <td>468</td>\n",
       "      <td>39.34</td>\n",
       "      <td>66.35</td>\n",
       "      <td>SUV</td>\n",
       "    </tr>\n",
       "    <tr>\n",
       "      <th>1</th>\n",
       "      <td>10796</td>\n",
       "      <td>310</td>\n",
       "      <td>4.38</td>\n",
       "      <td>602</td>\n",
       "      <td>48.61</td>\n",
       "      <td>94.15</td>\n",
       "      <td>Van</td>\n",
       "    </tr>\n",
       "    <tr>\n",
       "      <th>2</th>\n",
       "      <td>129</td>\n",
       "      <td>169</td>\n",
       "      <td>3.97</td>\n",
       "      <td>112</td>\n",
       "      <td>45.32</td>\n",
       "      <td>40.29</td>\n",
       "      <td>SUV</td>\n",
       "    </tr>\n",
       "  </tbody>\n",
       "</table>\n",
       "</div>"
      ],
      "text/plain": [
       "   driver_id  customer_rating_count  average_rating  rides  \\\n",
       "0        219                    179            4.53    468   \n",
       "1      10796                    310            4.38    602   \n",
       "2        129                    169            3.97    112   \n",
       "\n",
       "   average_distance_per_ride  average_speed car_type  \n",
       "0                      39.34          66.35      SUV  \n",
       "1                      48.61          94.15      Van  \n",
       "2                      45.32          40.29      SUV  "
      ]
     },
     "execution_count": 1,
     "metadata": {},
     "output_type": "execute_result"
    }
   ],
   "source": [
    "import pandas as pd\n",
    "\n",
    "drivers_df = pd.read_csv(\"./data/drivers.csv\")\n",
    "drivers_df.head(3)"
   ]
  },
  {
   "cell_type": "code",
   "execution_count": 2,
   "metadata": {},
   "outputs": [
    {
     "data": {
      "text/plain": [
       "Index(['driver_id', 'customer_rating_count', 'average_rating', 'rides',\n",
       "       'average_distance_per_ride', 'average_speed', 'car_type'],\n",
       "      dtype='object')"
      ]
     },
     "execution_count": 2,
     "metadata": {},
     "output_type": "execute_result"
    }
   ],
   "source": [
    "drivers_df.columns"
   ]
  },
  {
   "cell_type": "markdown",
   "metadata": {},
   "source": [
    "## Parcel Deliveries"
   ]
  },
  {
   "cell_type": "code",
   "execution_count": 3,
   "metadata": {},
   "outputs": [
    {
     "data": {
      "text/html": [
       "<div>\n",
       "<style scoped>\n",
       "    .dataframe tbody tr th:only-of-type {\n",
       "        vertical-align: middle;\n",
       "    }\n",
       "\n",
       "    .dataframe tbody tr th {\n",
       "        vertical-align: top;\n",
       "    }\n",
       "\n",
       "    .dataframe thead th {\n",
       "        text-align: right;\n",
       "    }\n",
       "</style>\n",
       "<table border=\"1\" class=\"dataframe\">\n",
       "  <thead>\n",
       "    <tr style=\"text-align: right;\">\n",
       "      <th></th>\n",
       "      <th>parcel_id</th>\n",
       "      <th>latitude</th>\n",
       "      <th>longitude</th>\n",
       "      <th>timestamp</th>\n",
       "      <th>driver_id</th>\n",
       "      <th>notes</th>\n",
       "      <th>stage</th>\n",
       "    </tr>\n",
       "  </thead>\n",
       "  <tbody>\n",
       "    <tr>\n",
       "      <th>0</th>\n",
       "      <td>780281868</td>\n",
       "      <td>-17.2986</td>\n",
       "      <td>31.331</td>\n",
       "      <td>2019-01-01 03:07:37</td>\n",
       "      <td>219</td>\n",
       "      <td>Collected at Bindura</td>\n",
       "      <td>Collected</td>\n",
       "    </tr>\n",
       "    <tr>\n",
       "      <th>1</th>\n",
       "      <td>780281868</td>\n",
       "      <td>-17.2986</td>\n",
       "      <td>31.331</td>\n",
       "      <td>2019-01-01 07:07:37</td>\n",
       "      <td>10796</td>\n",
       "      <td>In transit from Bindura</td>\n",
       "      <td>In Transit</td>\n",
       "    </tr>\n",
       "    <tr>\n",
       "      <th>2</th>\n",
       "      <td>780281868</td>\n",
       "      <td>-17.2986</td>\n",
       "      <td>31.331</td>\n",
       "      <td>2019-01-01 11:07:37</td>\n",
       "      <td>129</td>\n",
       "      <td>Awaiting delivery in Bindura</td>\n",
       "      <td>Waiting for Delivery</td>\n",
       "    </tr>\n",
       "  </tbody>\n",
       "</table>\n",
       "</div>"
      ],
      "text/plain": [
       "   parcel_id  latitude  longitude            timestamp  driver_id  \\\n",
       "0  780281868  -17.2986     31.331  2019-01-01 03:07:37        219   \n",
       "1  780281868  -17.2986     31.331  2019-01-01 07:07:37      10796   \n",
       "2  780281868  -17.2986     31.331  2019-01-01 11:07:37        129   \n",
       "\n",
       "                          notes                 stage  \n",
       "0          Collected at Bindura             Collected  \n",
       "1       In transit from Bindura            In Transit  \n",
       "2  Awaiting delivery in Bindura  Waiting for Delivery  "
      ]
     },
     "execution_count": 3,
     "metadata": {},
     "output_type": "execute_result"
    }
   ],
   "source": [
    "deliveries_df = pd.read_csv(\"./data/parcel_delivery.csv\")\n",
    "deliveries_df.head(3)"
   ]
  },
  {
   "cell_type": "code",
   "execution_count": 4,
   "metadata": {},
   "outputs": [
    {
     "data": {
      "text/plain": [
       "0                      Collected at Bindura\n",
       "1                   In transit from Bindura\n",
       "2              Awaiting delivery in Bindura\n",
       "3               Collected at Victoria Falls\n",
       "4                     Collected at Masvingo\n",
       "                       ...                 \n",
       "7995                    Delivered in Kadoma\n",
       "7996            Collected at Victoria Falls\n",
       "7997         In transit from Victoria Falls\n",
       "7998    Awaiting delivery in Victoria Falls\n",
       "7999            Delivered in Victoria Falls\n",
       "Name: notes, Length: 8000, dtype: object"
      ]
     },
     "execution_count": 4,
     "metadata": {},
     "output_type": "execute_result"
    }
   ],
   "source": [
    "deliveries_df[\"notes\"]"
   ]
  },
  {
   "cell_type": "code",
   "execution_count": 5,
   "metadata": {},
   "outputs": [
    {
     "data": {
      "text/plain": [
       "Index(['parcel_id', 'latitude', 'longitude', 'timestamp', 'driver_id', 'notes',\n",
       "       'stage'],\n",
       "      dtype='object')"
      ]
     },
     "execution_count": 5,
     "metadata": {},
     "output_type": "execute_result"
    }
   ],
   "source": [
    "deliveries_df.columns"
   ]
  },
  {
   "cell_type": "markdown",
   "metadata": {},
   "source": [
    "# User activity"
   ]
  },
  {
   "cell_type": "code",
   "execution_count": 6,
   "metadata": {},
   "outputs": [
    {
     "data": {
      "text/html": [
       "<div>\n",
       "<style scoped>\n",
       "    .dataframe tbody tr th:only-of-type {\n",
       "        vertical-align: middle;\n",
       "    }\n",
       "\n",
       "    .dataframe tbody tr th {\n",
       "        vertical-align: top;\n",
       "    }\n",
       "\n",
       "    .dataframe thead th {\n",
       "        text-align: right;\n",
       "    }\n",
       "</style>\n",
       "<table border=\"1\" class=\"dataframe\">\n",
       "  <thead>\n",
       "    <tr style=\"text-align: right;\">\n",
       "      <th></th>\n",
       "      <th>user_id</th>\n",
       "      <th>parcel_id</th>\n",
       "      <th>action</th>\n",
       "      <th>timestamp</th>\n",
       "    </tr>\n",
       "  </thead>\n",
       "  <tbody>\n",
       "    <tr>\n",
       "      <th>0</th>\n",
       "      <td>1</td>\n",
       "      <td>993505835</td>\n",
       "      <td>Add to Cart</td>\n",
       "      <td>2021-08-21 18:14:10</td>\n",
       "    </tr>\n",
       "    <tr>\n",
       "      <th>1</th>\n",
       "      <td>1</td>\n",
       "      <td>959747133</td>\n",
       "      <td>Add to Cart</td>\n",
       "      <td>2023-03-05 18:12:03</td>\n",
       "    </tr>\n",
       "    <tr>\n",
       "      <th>2</th>\n",
       "      <td>1</td>\n",
       "      <td>727254457</td>\n",
       "      <td>Viewed</td>\n",
       "      <td>2022-10-28 04:45:09</td>\n",
       "    </tr>\n",
       "  </tbody>\n",
       "</table>\n",
       "</div>"
      ],
      "text/plain": [
       "   user_id  parcel_id       action            timestamp\n",
       "0        1  993505835  Add to Cart  2021-08-21 18:14:10\n",
       "1        1  959747133  Add to Cart  2023-03-05 18:12:03\n",
       "2        1  727254457       Viewed  2022-10-28 04:45:09"
      ]
     },
     "execution_count": 6,
     "metadata": {},
     "output_type": "execute_result"
    }
   ],
   "source": [
    "user_activity_df = pd.read_csv(\"./data/user_activity.csv\")\n",
    "user_activity_df.head(3)"
   ]
  },
  {
   "cell_type": "code",
   "execution_count": 7,
   "metadata": {},
   "outputs": [
    {
     "data": {
      "text/plain": [
       "Index(['user_id', 'parcel_id', 'action', 'timestamp'], dtype='object')"
      ]
     },
     "execution_count": 7,
     "metadata": {},
     "output_type": "execute_result"
    }
   ],
   "source": [
    "user_activity_df.columns"
   ]
  },
  {
   "cell_type": "code",
   "execution_count": 9,
   "metadata": {},
   "outputs": [
    {
     "data": {
      "text/plain": [
       "array(['Add to Cart', 'Viewed', 'Bought'], dtype=object)"
      ]
     },
     "execution_count": 9,
     "metadata": {},
     "output_type": "execute_result"
    }
   ],
   "source": [
    "user_activity_df.action.unique()"
   ]
  },
  {
   "cell_type": "code",
   "execution_count": 10,
   "metadata": {},
   "outputs": [
    {
     "data": {
      "text/html": [
       "<div>\n",
       "<style scoped>\n",
       "    .dataframe tbody tr th:only-of-type {\n",
       "        vertical-align: middle;\n",
       "    }\n",
       "\n",
       "    .dataframe tbody tr th {\n",
       "        vertical-align: top;\n",
       "    }\n",
       "\n",
       "    .dataframe thead th {\n",
       "        text-align: right;\n",
       "    }\n",
       "</style>\n",
       "<table border=\"1\" class=\"dataframe\">\n",
       "  <thead>\n",
       "    <tr style=\"text-align: right;\">\n",
       "      <th></th>\n",
       "      <th>user_id</th>\n",
       "      <th>parcel_id</th>\n",
       "      <th>action</th>\n",
       "      <th>timestamp</th>\n",
       "    </tr>\n",
       "  </thead>\n",
       "  <tbody>\n",
       "    <tr>\n",
       "      <th>0</th>\n",
       "      <td>1</td>\n",
       "      <td>993505835</td>\n",
       "      <td>Added to Cart</td>\n",
       "      <td>2021-08-21 18:14:10</td>\n",
       "    </tr>\n",
       "    <tr>\n",
       "      <th>1</th>\n",
       "      <td>1</td>\n",
       "      <td>959747133</td>\n",
       "      <td>Added to Cart</td>\n",
       "      <td>2023-03-05 18:12:03</td>\n",
       "    </tr>\n",
       "    <tr>\n",
       "      <th>2</th>\n",
       "      <td>1</td>\n",
       "      <td>727254457</td>\n",
       "      <td>Viewed</td>\n",
       "      <td>2022-10-28 04:45:09</td>\n",
       "    </tr>\n",
       "    <tr>\n",
       "      <th>3</th>\n",
       "      <td>1</td>\n",
       "      <td>126332146</td>\n",
       "      <td>Bought</td>\n",
       "      <td>2019-08-16 15:44:59</td>\n",
       "    </tr>\n",
       "    <tr>\n",
       "      <th>4</th>\n",
       "      <td>1</td>\n",
       "      <td>396057776</td>\n",
       "      <td>Bought</td>\n",
       "      <td>2023-06-04 11:09:47</td>\n",
       "    </tr>\n",
       "  </tbody>\n",
       "</table>\n",
       "</div>"
      ],
      "text/plain": [
       "   user_id  parcel_id         action            timestamp\n",
       "0        1  993505835  Added to Cart  2021-08-21 18:14:10\n",
       "1        1  959747133  Added to Cart  2023-03-05 18:12:03\n",
       "2        1  727254457         Viewed  2022-10-28 04:45:09\n",
       "3        1  126332146         Bought  2019-08-16 15:44:59\n",
       "4        1  396057776         Bought  2023-06-04 11:09:47"
      ]
     },
     "execution_count": 10,
     "metadata": {},
     "output_type": "execute_result"
    }
   ],
   "source": [
    "# Making the action into past tense\n",
    "\n",
    "user_activity_df[\"action\"] = user_activity_df[\"action\"].replace(\"Add to Cart\", \"Added to Cart\")\n",
    "\n",
    "user_activity_df.head(5)"
   ]
  }
 ],
 "metadata": {
  "kernelspec": {
   "display_name": "swift_model-5kQoCHKL",
   "language": "python",
   "name": "python3"
  },
  "language_info": {
   "codemirror_mode": {
    "name": "ipython",
    "version": 3
   },
   "file_extension": ".py",
   "mimetype": "text/x-python",
   "name": "python",
   "nbconvert_exporter": "python",
   "pygments_lexer": "ipython3",
   "version": "3.11.6"
  }
 },
 "nbformat": 4,
 "nbformat_minor": 2
}
