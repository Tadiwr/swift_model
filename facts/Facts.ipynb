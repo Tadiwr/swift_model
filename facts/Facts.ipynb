{
 "cells": [
  {
   "cell_type": "markdown",
   "metadata": {},
   "source": [
    "# Methodology/ Idea\n",
    "\n",
    "- the idea is to generate a facts file that acts as a data source for our lang chain model to use\n",
    "- it is made up of every line in the datasets given"
   ]
  },
  {
   "cell_type": "markdown",
   "metadata": {},
   "source": [
    "## Importing Libraries"
   ]
  },
  {
   "cell_type": "code",
   "execution_count": 1,
   "metadata": {},
   "outputs": [],
   "source": [
    "import pandas as pd"
   ]
  },
  {
   "cell_type": "markdown",
   "metadata": {},
   "source": [
    "## Creating the file"
   ]
  },
  {
   "cell_type": "code",
   "execution_count": 2,
   "metadata": {},
   "outputs": [],
   "source": [
    "factsfileName = \"./facts.txt\"\n",
    "factsFile = open(factsfileName, \"w\")"
   ]
  },
  {
   "cell_type": "markdown",
   "metadata": {},
   "source": [
    "# Function to add the Parcels to the facts file"
   ]
  },
  {
   "cell_type": "code",
   "execution_count": 3,
   "metadata": {},
   "outputs": [],
   "source": [
    "def addParcelsToFactsFile():\n",
    "\n",
    "    fileName = \"../data/parcels.csv\"\n",
    "    parcels_df = pd.read_csv(fileName)\n",
    "\n",
    "    # Iterating through each row\n",
    "\n",
    "    for index, row in parcels_df.iterrows():\n",
    "        parcel_id = row[\"parcel_id\"]\n",
    "        desc = row[\"parcel_description\"]\n",
    "        category = row[\"parcel_category\"]\n",
    "        name = row[\"parcel_name\"]\n",
    "        weight = row[\"parcel_weight\"]\n",
    "\n",
    "        fact_sentence = f\"\"\"Parcel with id {parcel_id}, is a {name}, the a description \"{desc}\", in the {category} category and has a weight of {weight}.kg\\n\"\"\"\n",
    "\n",
    "        factsFile.write(fact_sentence)"
   ]
  },
  {
   "cell_type": "markdown",
   "metadata": {},
   "source": [
    "# Function to add the drivers to the facts file"
   ]
  },
  {
   "cell_type": "code",
   "execution_count": 4,
   "metadata": {},
   "outputs": [],
   "source": [
    "def addDriversToFactsFile():\n",
    "    fileName = \"../data/drivers.csv\"\n",
    "    drivers_df = pd.read_csv(fileName)\n",
    "\n",
    "    # Iterating through each row\n",
    "\n",
    "    for index, row in drivers_df.iterrows():\n",
    "        driver_id = row[\"driver_id\"]\n",
    "        customer_rating_count = row[\"customer_rating_count\"]\n",
    "        average_rating = row['average_rating']\n",
    "        rides = row['rides']\n",
    "        average_distance = row['average_distance_per_ride']\n",
    "        average_speed = row['average_speed']\n",
    "        car_type = row['car_type']\n",
    "\n",
    "\n",
    "        fact_sentence = f\"\"\"Driver, with id {driver_id}, drives a {car_type}. He has an average rating of {average_rating} from {customer_rating_count} customers. He has had {rides} rides and has an avergae distance per ride of {average_distance}. He has an average speed of {average_speed}\\n\"\"\"\n",
    "        factsFile.write(fact_sentence)\n",
    "        \n",
    "        # print(fact_sentence)\n"
   ]
  },
  {
   "cell_type": "markdown",
   "metadata": {},
   "source": [
    "# Function to add percel delivery data"
   ]
  },
  {
   "cell_type": "code",
   "execution_count": 5,
   "metadata": {},
   "outputs": [],
   "source": [
    "# Columns : ['parcel_id', 'latitude', 'longitude', 'timestamp', 'driver_id', 'notes','stage'],\n",
    "\n",
    "def addParcelDeliveryData():\n",
    "\n",
    "    fileName = \"../data/parcel_delivery.csv\"\n",
    "    delivery_df = pd.read_csv(fileName)\n",
    "\n",
    "    for index, row in delivery_df.iterrows():\n",
    "        parcel_id = row[\"parcel_id\"]\n",
    "        lati = row[\"latitude\"]\n",
    "        longi = row[\"longitude\"]\n",
    "        timestamp = row[\"timestamp\"]\n",
    "        driver_id = row[\"driver_id\"]\n",
    "        notes = row[\"notes\"]\n",
    "        stage = row[\"stage\"]\n",
    "\n",
    "        fact_sentence = f\"\"\"A parcel, with id {parcel_id}, was with the driver with id {driver_id} at the location with latitude {lati} and longitude {longi} was {notes} at the time stamp {timestamp}. The parcel delivery was at the '{stage}' stage\\n\"\"\"\n",
    "\n",
    "        # print(fact_sentence)\n",
    "        factsFile.write(fact_sentence)\n",
    "\n"
   ]
  },
  {
   "cell_type": "markdown",
   "metadata": {},
   "source": [
    "# Function to add user activity to facts"
   ]
  },
  {
   "cell_type": "code",
   "execution_count": 6,
   "metadata": {},
   "outputs": [],
   "source": [
    "# Columns: ['user_id', 'parcel_id', 'action', 'timestamp']\n",
    "def addUserActivityToFactsFile():\n",
    "\n",
    "\n",
    "    fileName = \"../data/user_activity.csv\"\n",
    "    user_activity_df = pd.read_csv(fileName)\n",
    "\n",
    "    # Settings actions to past tense\n",
    "    user_activity_df[\"action\"] = user_activity_df[\"action\"].replace(\"Add to Cart\", \"Added to Cart\")\n",
    "\n",
    "    for index, row in user_activity_df.iterrows():\n",
    "        parcel_id = row[\"parcel_id\"]\n",
    "        user_id = row[\"user_id\"]\n",
    "        action = row[\"action\"]\n",
    "        timestamp = row[\"timestamp\"]\n",
    "\n",
    "\n",
    "        fact_sentence = f\"\"\"User, with id {user_id}, {action} parcel with id {parcel_id} at timestamp {timestamp}\\n\"\"\"\n",
    "\n",
    "        # print(fact_sentence)\n",
    "        factsFile.write(fact_sentence)\n"
   ]
  },
  {
   "cell_type": "markdown",
   "metadata": {},
   "source": [
    "# Putting it all together"
   ]
  },
  {
   "cell_type": "code",
   "execution_count": 7,
   "metadata": {},
   "outputs": [],
   "source": [
    "addParcelsToFactsFile()\n",
    "addDriversToFactsFile()\n",
    "addParcelDeliveryData()\n",
    "addUserActivityToFactsFile()\n",
    "\n",
    "factsFile.close()"
   ]
  }
 ],
 "metadata": {
  "kernelspec": {
   "display_name": "swift_model-5kQoCHKL",
   "language": "python",
   "name": "python3"
  },
  "language_info": {
   "codemirror_mode": {
    "name": "ipython",
    "version": 3
   },
   "file_extension": ".py",
   "mimetype": "text/x-python",
   "name": "python",
   "nbconvert_exporter": "python",
   "pygments_lexer": "ipython3",
   "version": "3.11.6"
  }
 },
 "nbformat": 4,
 "nbformat_minor": 2
}
